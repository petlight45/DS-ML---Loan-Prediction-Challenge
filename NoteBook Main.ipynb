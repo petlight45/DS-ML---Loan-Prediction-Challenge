{
 "cells": [
  {
   "cell_type": "code",
   "execution_count": 1,
   "metadata": {},
   "outputs": [],
   "source": [
    "import pandas as pd, numpy as np, matplotlib.pyplot as plt,seaborn as sns, warnings, requests, datetime"
   ]
  },
  {
   "cell_type": "code",
   "execution_count": 2,
   "metadata": {},
   "outputs": [],
   "source": [
    "warnings.filterwarnings('ignore')"
   ]
  },
  {
   "cell_type": "code",
   "execution_count": 3,
   "metadata": {},
   "outputs": [],
   "source": [
    "demo_train = pd.read_csv('traindemographics.csv')\n",
    "perf_train = pd.read_csv('trainperf.csv')\n",
    "prev_train = pd.read_csv('trainprevloans.zip')\n",
    "demo_test = pd.read_csv('testdemographics.csv')\n",
    "perf_test = pd.read_csv('testperf.csv')\n",
    "prev_test = pd.read_csv('testprevloans.zip')\n",
    "submission = pd.read_csv('SampleSubmission.csv')\n",
    "geo_test = pd.read_csv('geo_test.csv')\n",
    "geo_train = pd.read_csv('geo_train.csv')"
   ]
  },
  {
   "cell_type": "code",
   "execution_count": 4,
   "metadata": {},
   "outputs": [],
   "source": [
    "geo_train.drop('Unnamed: 0', axis=1,inplace=True)\n",
    "geo_test.drop('Unnamed: 0', axis=1,inplace=True)"
   ]
  },
  {
   "cell_type": "code",
   "execution_count": 5,
   "metadata": {},
   "outputs": [],
   "source": [
    "demo_train = pd.merge(demo_train, geo_train, on='customerid', how='left')\n",
    "demo_test = pd.merge(demo_test, geo_test, on='customerid', how='left')"
   ]
  },
  {
   "cell_type": "code",
   "execution_count": 6,
   "metadata": {},
   "outputs": [],
   "source": [
    "perf_test = perf_test.set_index('customerid').loc[submission['customerid']].reset_index()"
   ]
  },
  {
   "cell_type": "markdown",
   "metadata": {},
   "source": [
    "<h3>Treating Missing Values</h3>"
   ]
  },
  {
   "cell_type": "code",
   "execution_count": 7,
   "metadata": {},
   "outputs": [
    {
     "data": {
      "text/plain": [
       "customerid      1450\n",
       "systemloanid    1450\n",
       "loannumber        20\n",
       "approveddate    1179\n",
       "creationdate    1186\n",
       "loanamount        10\n",
       "totaldue          37\n",
       "termdays           4\n",
       "referredby       178\n",
       "dtype: int64"
      ]
     },
     "execution_count": 7,
     "metadata": {},
     "output_type": "execute_result"
    }
   ],
   "source": [
    "perf_test.nunique()"
   ]
  },
  {
   "cell_type": "code",
   "execution_count": 8,
   "metadata": {},
   "outputs": [
    {
     "data": {
      "text/plain": [
       "Index(['customerid', 'birthdate', 'bank_account_type', 'longitude_gps',\n",
       "       'latitude_gps', 'bank_name_clients', 'bank_branch_clients',\n",
       "       'employment_status_clients', 'level_of_education_clients', 'Country',\n",
       "       'State', 'LGA'],\n",
       "      dtype='object')"
      ]
     },
     "execution_count": 8,
     "metadata": {},
     "output_type": "execute_result"
    }
   ],
   "source": [
    "demo_train.columns"
   ]
  },
  {
   "cell_type": "code",
   "execution_count": 9,
   "metadata": {},
   "outputs": [],
   "source": [
    "demo_train.drop('bank_branch_clients', axis=1, inplace=True)\n",
    "demo_test.drop('bank_branch_clients', axis=1, inplace=True)"
   ]
  },
  {
   "cell_type": "code",
   "execution_count": 10,
   "metadata": {},
   "outputs": [],
   "source": [
    "demo_train['employment_status_clients'] = demo_train['employment_status_clients'].fillna('Unknown')\n",
    "demo_test['employment_status_clients'] = demo_test['employment_status_clients'].fillna('Unknown')"
   ]
  },
  {
   "cell_type": "code",
   "execution_count": 11,
   "metadata": {},
   "outputs": [],
   "source": [
    "demo_train['level_of_education_clients'] = demo_train['level_of_education_clients'].fillna('No Level')\n",
    "demo_test['level_of_education_clients'] = demo_test['level_of_education_clients'].fillna('No Level')"
   ]
  },
  {
   "cell_type": "markdown",
   "metadata": {},
   "source": [
    "<h3>The dataset contains no outliers, so let's move on to feature engineering<h3>"
   ]
  },
  {
   "cell_type": "markdown",
   "metadata": {},
   "source": [
    "<h3>Feature Engineering</h3>"
   ]
  },
  {
   "cell_type": "code",
   "execution_count": 12,
   "metadata": {},
   "outputs": [],
   "source": [
    "cat_features = []"
   ]
  },
  {
   "cell_type": "code",
   "execution_count": 13,
   "metadata": {},
   "outputs": [],
   "source": [
    "count_ser = None\n",
    "def get_count(series, x):\n",
    "    global count_ser\n",
    "    try:\n",
    "        return count_ser[x]\n",
    "    except:\n",
    "        count_ser = series.value_counts()\n",
    "        return count_ser[x]\n",
    "        "
   ]
  },
  {
   "cell_type": "code",
   "execution_count": 14,
   "metadata": {},
   "outputs": [],
   "source": [
    "def demo_feat_eng(data):\n",
    "    global cat_features\n",
    "    global count_ser\n",
    "    data = data.copy()\n",
    "    data['Age'] = ((datetime.datetime.today() - pd.to_datetime(data['birthdate'])).dt.days / 365).astype(np.int64) - 2\n",
    "    data.drop('birthdate', inplace=True, axis=1)\n",
    "    \n",
    "    dummies_bank_account_type = pd.get_dummies(data[['bank_account_type']], drop_first=True)\n",
    "    data = pd.concat([data, dummies_bank_account_type], axis = 1)\n",
    "    data.drop('bank_account_type', inplace=True, axis=1)\n",
    "\n",
    "#     data['bank_account_type'] = data['bank_account_type'].astype('category')\n",
    "#     cat_features.append('bank_account_type')\n",
    "    \n",
    "    dummies_employment_status_clients = pd.get_dummies(data[['employment_status_clients']], drop_first=True)\n",
    "    data = pd.concat([data, dummies_employment_status_clients], axis=1)\n",
    "    data.drop('employment_status_clients', inplace=True, axis=1)\n",
    "\n",
    "#     data['employment_status_clients'] = data['employment_status_clients'].astype('category')\n",
    "#     cat_features.append('employment_status_clients')\n",
    "    \n",
    "    dummies_level_of_education_clients = pd.get_dummies(data[['level_of_education_clients']], drop_first=True)\n",
    "    data = pd.concat([data, dummies_level_of_education_clients], axis=1)\n",
    "    data.drop('level_of_education_clients', inplace=True, axis=1)\n",
    "\n",
    "#     data['level_of_education_clients'] = data['level_of_education_clients'].astype('category')\n",
    "#     cat_features.append('level_of_education_clients')\n",
    "    \n",
    "    dummies_bank_name_clients = pd.get_dummies(data[['bank_name_clients']], drop_first=True)\n",
    "    data = pd.concat([data, dummies_bank_name_clients], axis=1)\n",
    "    data.drop('bank_name_clients', inplace=True, axis=1)\n",
    "\n",
    "#     data['bank_name_clients'] = data['bank_name_clients'].astype('category')\n",
    "#     cat_features.append('bank_name_clients')\n",
    "\n",
    "    dummies_bank_name_clients = pd.get_dummies(data[['Country']], drop_first=True)\n",
    "    data = pd.concat([data, dummies_bank_name_clients], axis=1)\n",
    "    data.drop('Country', inplace=True, axis=1)\n",
    "#     count_ser = None\n",
    "#     data['Country'] = data['Country'].apply(lambda x: get_count(data['Country'], x))\n",
    "    \n",
    "#     dummies_bank_name_clients = pd.get_dummies(data[['State']], drop_first=True)\n",
    "#     data = pd.concat([data, dummies_bank_name_clients], axis=1)\n",
    "    data.drop('State', inplace=True, axis=1)\n",
    "#     count_ser = None\n",
    "#     data['State'] = data['State'].apply(lambda x: get_count(data['State'], x))\n",
    "    \n",
    "#     dummies_bank_name_clients = pd.get_dummies(data[['LGA']], drop_first=True)\n",
    "#     data = pd.concat([data, dummies_bank_name_clients], axis=1)\n",
    "    data.drop('LGA', inplace=True, axis=1)\n",
    "#     count_ser = None\n",
    "#     data['LGA'] = data['LGA'].apply(lambda x: get_count(data['LGA'], x))\n",
    "    \n",
    "#     data.drop(['longitude_gps', 'latitude_gps'], inplace=True, axis=1)\n",
    "    \n",
    "    return data\n",
    "    \n",
    "    "
   ]
  },
  {
   "cell_type": "code",
   "execution_count": 15,
   "metadata": {},
   "outputs": [],
   "source": [
    "demo_train_feat = demo_feat_eng(demo_train)\n",
    "demo_test_feat = demo_feat_eng(demo_test)"
   ]
  },
  {
   "cell_type": "code",
   "execution_count": 16,
   "metadata": {},
   "outputs": [
    {
     "data": {
      "text/plain": [
       "Index(['customerid', 'systemloanid', 'loannumber', 'approveddate',\n",
       "       'creationdate', 'loanamount', 'totaldue', 'termdays', 'closeddate',\n",
       "       'referredby', 'firstduedate', 'firstrepaiddate'],\n",
       "      dtype='object')"
      ]
     },
     "execution_count": 16,
     "metadata": {},
     "output_type": "execute_result"
    }
   ],
   "source": [
    "prev_train.columns"
   ]
  },
  {
   "cell_type": "code",
   "execution_count": 17,
   "metadata": {},
   "outputs": [],
   "source": [
    "def prev_feat_eng(data):\n",
    "    data = data.copy()\n",
    "    \n",
    "#     data['availability_period'] = ((pd.to_datetime(data['closeddate']) - pd.to_datetime(data['creationdate'])).dt.days).astype(np.int64)\n",
    "    \n",
    "    data.drop(['approveddate', 'creationdate'], inplace=True, axis=1)\n",
    "    \n",
    "    data.drop(['closeddate'], inplace=True, axis=1)\n",
    "    \n",
    "    data['repayment_default_days'] = ((pd.to_datetime(data['firstduedate']) - pd.to_datetime(data['firstrepaiddate'])).dt.days).astype(np.int64)\n",
    "    data.drop(['firstduedate', 'firstrepaiddate'], inplace=True, axis=1)\n",
    "    \n",
    "    data['is_referred'] = data['referredby'].fillna(\"\").apply(lambda x: 1 if x else 0)\n",
    "    data.drop(['referredby'], inplace=True, axis=1)\n",
    "    \n",
    "    data.drop(['systemloanid'], inplace=True, axis=1)\n",
    "    \n",
    "#     data.drop(['loanamount'], inplace=True, axis=1)\n",
    "    return data\n",
    "    "
   ]
  },
  {
   "cell_type": "code",
   "execution_count": 18,
   "metadata": {},
   "outputs": [],
   "source": [
    "prev_train_feat = prev_feat_eng(prev_train)\n",
    "prev_test_feat = prev_feat_eng(prev_test)"
   ]
  },
  {
   "cell_type": "code",
   "execution_count": 19,
   "metadata": {},
   "outputs": [],
   "source": [
    "def perf_feat_eng(data):\n",
    "    data = data.copy()\n",
    "    \n",
    "    data.drop(['approveddate', 'creationdate'], inplace=True, axis=1)\n",
    "    \n",
    "    data['is_referred'] = data['referredby'].fillna(\"\").apply(lambda x: 1 if x else 0)\n",
    "    data.drop(['referredby'], inplace=True, axis=1)\n",
    "    \n",
    "    data.drop(['systemloanid'], inplace=True, axis=1)\n",
    "    \n",
    "    data.drop(['loanamount'], inplace=True, axis=1)\n",
    "    \n",
    "    return data"
   ]
  },
  {
   "cell_type": "code",
   "execution_count": 20,
   "metadata": {},
   "outputs": [],
   "source": [
    "perf_train_feat = perf_feat_eng(perf_train)\n",
    "perf_test_feat = perf_feat_eng(perf_test)"
   ]
  },
  {
   "cell_type": "markdown",
   "metadata": {},
   "source": [
    "<h3>Merging the datasets together</h3>"
   ]
  },
  {
   "cell_type": "code",
   "execution_count": 21,
   "metadata": {},
   "outputs": [],
   "source": [
    "def merging(demo, prev, perf,mode):\n",
    "    prev = prev.copy()\n",
    "    perf = perf.copy()\n",
    "    demo = demo.copy()\n",
    "    demo = demo.drop_duplicates(subset=['customerid']).reset_index(drop=True)\n",
    "    prev_agg = prev.groupby('customerid').agg(['mean'])\n",
    "    prev_agg.columns = ['_'.join(col).strip() for col in prev_agg.columns.values]\n",
    "    prev_agg.reset_index(inplace=True)\n",
    "    df1 = pd.merge(prev_agg, perf, on='customerid', how='right')\n",
    "    print(df1.shape)\n",
    "    df2 = pd.merge(demo, df1, on='customerid', how='right')\n",
    "    print(df2.shape)\n",
    "    return df2"
   ]
  },
  {
   "cell_type": "code",
   "execution_count": 22,
   "metadata": {},
   "outputs": [
    {
     "name": "stdout",
     "output_type": "stream",
     "text": [
      "(4368, 12)\n",
      "(4368, 57)\n",
      "(1450, 11)\n",
      "(1450, 56)\n"
     ]
    }
   ],
   "source": [
    "train_df = merging(pd.concat([demo_train_feat, demo_test_feat] ,axis=0), pd.concat([prev_train_feat, prev_test_feat] ,axis=0), perf_train_feat, 'train')\n",
    "test_df = merging(pd.concat([demo_train_feat, demo_test_feat] ,axis=0), pd.concat([prev_train_feat, prev_test_feat] ,axis=0), perf_test_feat, 'test')"
   ]
  },
  {
   "cell_type": "markdown",
   "metadata": {},
   "source": [
    "<h3>Filing missing values by imputation</h3>"
   ]
  },
  {
   "cell_type": "code",
   "execution_count": 23,
   "metadata": {},
   "outputs": [],
   "source": [
    "#filing missing values by imputation\n",
    "from sklearn.impute import SimpleImputer\n",
    "#train\n",
    "def imputation_(data):\n",
    "    data = data.copy()\n",
    "    col_na_train = data.columns[data.isna().any()]\n",
    "    imp = SimpleImputer(missing_values=np.nan, strategy='most_frequent')\n",
    "    data_ = imp.fit_transform(data[col_na_train])\n",
    "    data[col_na_train] = data_\n",
    "    return data"
   ]
  },
  {
   "cell_type": "code",
   "execution_count": 24,
   "metadata": {},
   "outputs": [],
   "source": [
    "train_df = imputation_(train_df)\n",
    "test_df = imputation_(test_df)"
   ]
  },
  {
   "cell_type": "code",
   "execution_count": 25,
   "metadata": {},
   "outputs": [],
   "source": [
    "def remove_customer_id(data):\n",
    "    return data.drop('customerid', axis=1)"
   ]
  },
  {
   "cell_type": "code",
   "execution_count": 26,
   "metadata": {},
   "outputs": [],
   "source": [
    "working_train_df = remove_customer_id(train_df)\n",
    "working_test_df = remove_customer_id(test_df)"
   ]
  },
  {
   "cell_type": "markdown",
   "metadata": {},
   "source": [
    "<h3>Extracting the target feature from the training dataset</h3>"
   ]
  },
  {
   "cell_type": "code",
   "execution_count": 27,
   "metadata": {},
   "outputs": [],
   "source": [
    "from sklearn.preprocessing import LabelEncoder\n",
    "def processing_target(data):\n",
    "    data = data.copy()\n",
    "    target = data.pop('good_bad_flag')\n",
    "    label_encoder = LabelEncoder()\n",
    "    target = label_encoder.fit_transform(target)\n",
    "    return data, target, label_encoder"
   ]
  },
  {
   "cell_type": "code",
   "execution_count": 28,
   "metadata": {},
   "outputs": [],
   "source": [
    "X , y, lbe = processing_target(working_train_df)"
   ]
  },
  {
   "cell_type": "markdown",
   "metadata": {},
   "source": [
    "<h3>Feature Scaling</h3>"
   ]
  },
  {
   "cell_type": "code",
   "execution_count": 29,
   "metadata": {},
   "outputs": [],
   "source": [
    "# from sklearn.preprocessing import StandardScaler, MinMaxScaler\n",
    "# scaler = MinMaxScaler()\n",
    "# X = scaler.fit_transform(X)\n",
    "# working_test_df = scaler.transform(working_test_df)"
   ]
  },
  {
   "cell_type": "markdown",
   "metadata": {},
   "source": [
    "<h1>Model Fitting</h1>"
   ]
  },
  {
   "cell_type": "code",
   "execution_count": 30,
   "metadata": {},
   "outputs": [],
   "source": [
    "seed = 1\n",
    "np.random.seed(seed)"
   ]
  },
  {
   "cell_type": "code",
   "execution_count": 31,
   "metadata": {},
   "outputs": [],
   "source": [
    "from sklearn.model_selection import train_test_split\n",
    "X_train, X_test, y_train, y_test = train_test_split(X, y, test_size=0.25, random_state=seed)"
   ]
  },
  {
   "cell_type": "code",
   "execution_count": 32,
   "metadata": {},
   "outputs": [],
   "source": [
    "from sklearn.metrics import classification_report, confusion_matrix, accuracy_score"
   ]
  },
  {
   "cell_type": "code",
   "execution_count": 33,
   "metadata": {},
   "outputs": [],
   "source": [
    "from sklearn.utils import class_weight\n",
    "class_weight = dict(zip(np.unique(y), class_weight.compute_class_weight('balanced',\n",
    "                                                 np.unique(y),\n",
    "                                                 y))) "
   ]
  },
  {
   "cell_type": "code",
   "execution_count": 34,
   "metadata": {},
   "outputs": [],
   "source": [
    "import optuna"
   ]
  },
  {
   "cell_type": "code",
   "execution_count": 35,
   "metadata": {},
   "outputs": [],
   "source": [
    "from sklearn.ensemble import RandomForestClassifier\n",
    "from catboost import CatBoostClassifier\n",
    "from xgboost import XGBClassifier\n",
    "from lightgbm import LGBMClassifier\n",
    "import lightgbm as lgb\n",
    "from sklearn.metrics import accuracy_score\n",
    "from sklearn.svm import SVC\n",
    "from sklearn.naive_bayes import GaussianNB\n",
    "from sklearn.neighbors import KNeighborsClassifier\n",
    "from sklearn.tree import DecisionTreeClassifier\n",
    "from sklearn.model_selection import cross_val_score\n",
    "from sklearn.linear_model import LogisticRegression"
   ]
  },
  {
   "cell_type": "code",
   "execution_count": 38,
   "metadata": {},
   "outputs": [],
   "source": [
    "# def objective(trial):\n",
    "#     params_lgbm={\n",
    "#       'n_estimators':trial.suggest_int('n_estimators', 0, 1000), \n",
    "#       'num_leaves':trial.suggest_int('num_leaves', 2, 512),\n",
    "#       'max_depth':trial.suggest_int('max_depth', 2, 128),\n",
    "#       'learning_rate': trial.suggest_loguniform('learning_rate', 0.001, 0.15),\n",
    "#       'min_split_gain': trial.suggest_loguniform('min_split_gain', 0.001, 0.1),\n",
    "#       'feature_fraction':trial.suggest_uniform('feature_fraction',0.1, 1.0),\n",
    "#       'bagging_freq':trial.suggest_int('bagging_freq',0.1,10),\n",
    "# #         'early_stopping_rounds':100,\n",
    "#       'random_state':seed\n",
    "#             }\n",
    "#     params_xgb = {\n",
    "#         'learning_rate': trial.suggest_loguniform('learning_rate', 0.001, 0.15),\n",
    "#         'max_depth': trial.suggest_int('max_depth', 2, 20),\n",
    "#         'min_child_weight': trial.suggest_int('max_depth', 1, 20),\n",
    "#         'subsample': trial.suggest_uniform('subsample',0.1, 1.0),\n",
    "#         'colsample_bytree': trial.suggest_uniform('colsample_bytree',0.1, 1.0),\n",
    "#               'n_estimators':trial.suggest_int('n_estimators', 0, 1000), \n",
    "#                     'random_state':seed\n",
    "# #         'objective': ['binary:logistic']\n",
    "#     }\n",
    "#     params_forest={\n",
    "#       'n_estimators':trial.suggest_int('n_estimators', 200, 1000), \n",
    "#     'max_features':trial.suggest_categorical('max_features', ['auto', 'sqrt']),\n",
    "#       'max_depth':trial.suggest_int('max_depth', 2, 10),\n",
    "#         'min_samples_split': trial.suggest_int('min_samples_split', 2, 10),\n",
    "#         'min_samples_leaf': trial.suggest_int('min_samples_leaf', 2, 10),\n",
    "#         'bootstrap':trial.suggest_categorical('bootstrap', [True, False]),\n",
    "#       'random_state':seed\n",
    "#     }\n",
    "#     params_knn={\n",
    "#       'leaf_size':trial.suggest_int('leaf_size', 1, 200), \n",
    "#       'n_neighbors':trial.suggest_int('n_neighbors', 1, 200), \n",
    "#     'p':trial.suggest_categorical('p', [1, 2,3,4,5])\n",
    "#     }\n",
    "    \n",
    "#     params_catboost={\n",
    "#       'n_estimators':1000, \n",
    "#       'subsample':trial.suggest_uniform('subsample', 0.1, 1.0),\n",
    "#       'max_depth':trial.suggest_int('max_depth', 1, 10),\n",
    "#       'learning_rate': trial.suggest_loguniform('learning_rate', 0.001, 0.15),\n",
    "#       'random_state':seed,\n",
    "#         'use_best_model':True,\n",
    "#     'od_type': \"Iter\",\n",
    "#   'od_wait': 100,\n",
    "#             }\n",
    "#     params_svc = {'C': trial.suggest_float('C', 0.1, 100), \n",
    "#                  'gamma': trial.suggest_loguniform('gamma', 0.001, 1.0),\n",
    "#                  'kernel': trial.suggest_categorical('kernel', ['rbf', 'poly', 'sigmoid']),\n",
    "#                   'random_state':seed,\n",
    "#                   'probability':True\n",
    "#                 }\n",
    "#     params_logistic = {\n",
    "#         'C':trial.suggest_loguniform('C', 0.001, 100)\n",
    "#     }\n",
    "#     clf = LogisticRegression(**params_logistic)\n",
    "#     clf.fit(X_train, y_train)\n",
    "#     clf = CatBoostClassifier(**params_catboost, eval_metric='Accuracy',verbose=0, cat_features=cat_features)\n",
    "#     clf = LGBMClassifier(**params_lgbm, objective='multiclass')\n",
    "#     clf = LGBMClassifier(**params_lgbm)\n",
    "#     clf = XGBClassifier(**params_xgb)\n",
    "#     clf.fit(X_train, y_train)\n",
    "#     clf.fit(X_train, y_train, eval_set=(X_test, y_test))\n",
    "#     return cross_val_score(clf, X, y, n_jobs=-1,cv=3).mean()\n",
    "#     return accuracy_score(y_test, clf.predict(X_test))\n",
    "\n",
    "# clf = CatBoostClassifier(**params_catboost, cat_features=cat_feat, eval_metric='Accuracy')\n",
    "# clf = LGBMClassifier(**params_lgbm, objective='multiclass')\n",
    "# clf.fit(X_train, y_train, eval_set=(X_test, y_test))"
   ]
  },
  {
   "cell_type": "code",
   "execution_count": 39,
   "metadata": {
    "scrolled": true
   },
   "outputs": [],
   "source": [
    "# study = optuna.create_study(direction='maximize')\n",
    "# study.optimize(objective, n_trials = 200)"
   ]
  },
  {
   "cell_type": "code",
   "execution_count": 40,
   "metadata": {},
   "outputs": [],
   "source": [
    "#Getting the best parameters of the tuning process\n",
    "logistic_params = {'C': 0.018520232368098567}\n",
    "knn_params = {'leaf_size': 89, 'n_neighbors': 65, 'p': 4}\n",
    "lgb_params = {'n_estimators': 308, 'num_leaves': 484, 'max_depth': 5, 'learning_rate': 0.03736581921793045, 'min_split_gain': 0.02161109975341182, 'feature_fraction': 0.6951873684079937, 'bagging_freq': 4}\n",
    "# cat_params = {'max_depth': 4, 'learning_rate': 0.029606808629493046}\n",
    "cat_params = {'max_depth': 3, 'learning_rate': 0.003881677395564221}  #topped, with country\n",
    "# cat_params = {'max_depth': 6, 'learning_rate': 0.0036995806190383896} with counry\n",
    "xgb_params = {'learning_rate': 0.005385078545080316, 'max_depth': 3, 'subsample': 0.3659056662933683, 'colsample_bytree': 0.6897493555092099, 'n_estimators': 236}\n",
    "forest_params = {'n_estimators': 461, 'max_features': 'auto', 'max_depth': 4, 'min_samples_split': 3, 'min_samples_leaf': 9, 'bootstrap': False}\n",
    "lgb_def = {'early_stopping_rounds':100,\n",
    "      'random_state':seed,\n",
    "              'objective':'binary'\n",
    "            }\n",
    "cb_def ={\n",
    "      'n_estimators':1000, \n",
    "      'random_state':seed,\n",
    "        'use_best_model':True,\n",
    "    'od_type': \"Iter\",\n",
    "  'od_wait': 100,\n",
    "    'eval_metric':'Accuracy',\n",
    "    'cat_features': cat_features\n",
    "            }"
   ]
  },
  {
   "cell_type": "code",
   "execution_count": 41,
   "metadata": {},
   "outputs": [],
   "source": [
    "eval_set = (X_test, y_test)"
   ]
  },
  {
   "cell_type": "code",
   "execution_count": 42,
   "metadata": {},
   "outputs": [],
   "source": [
    "class CatBoostClassifierCorrected(CatBoostClassifier):\n",
    "    def fit(self, X, y=None, cat_features=None, text_features=None, embedding_features=None, sample_weight=None, baseline=None, use_best_model=None,\n",
    "            eval_set=eval_set, verbose=None, logging_level=None, plot=False, column_description=None,\n",
    "            verbose_eval=None, metric_period=None, silent=None, early_stopping_rounds=None,\n",
    "            save_snapshot=None, snapshot_file=None, snapshot_interval=None, init_model=None):\n",
    "        \n",
    "        return super().fit(X, y, cat_features, text_features, embedding_features, sample_weight, baseline, use_best_model,\n",
    "            eval_set, verbose, logging_level, plot, column_description,\n",
    "            verbose_eval, metric_period, silent, early_stopping_rounds,\n",
    "            save_snapshot, snapshot_file, snapshot_interval, init_model)\n",
    "    \n",
    "class LGBMClassifierCorrected(LGBMClassifier):\n",
    "    def fit(self, X, y,\n",
    "            sample_weight=None, init_score=None,\n",
    "            eval_set=eval_set, eval_names=None, eval_sample_weight=None,\n",
    "            eval_class_weight=None, eval_init_score=None, eval_metric=None,\n",
    "            early_stopping_rounds=None, verbose=True,\n",
    "            feature_name='auto', categorical_feature='auto',\n",
    "            callbacks=None, init_model=None):\n",
    "        return super().fit(X, y,\n",
    "            sample_weight, init_score,\n",
    "            eval_set, eval_names, eval_sample_weight,\n",
    "            eval_class_weight, eval_init_score, eval_metric,\n",
    "            early_stopping_rounds, verbose,\n",
    "            feature_name, categorical_feature,\n",
    "            callbacks, init_model)\n"
   ]
  },
  {
   "cell_type": "code",
   "execution_count": 43,
   "metadata": {},
   "outputs": [],
   "source": [
    "# print(inspect.getsource(LGBMClassifier))"
   ]
  },
  {
   "cell_type": "code",
   "execution_count": 44,
   "metadata": {},
   "outputs": [
    {
     "name": "stdout",
     "output_type": "stream",
     "text": [
      "0:\tlearn: 0.7857143\ttest: 0.8141026\tbest: 0.8141026 (0)\ttotal: 93.9ms\tremaining: 1m 33s\n",
      "1:\tlearn: 0.7857143\ttest: 0.8141026\tbest: 0.8141026 (0)\ttotal: 103ms\tremaining: 51.3s\n",
      "2:\tlearn: 0.7890720\ttest: 0.8214286\tbest: 0.8214286 (2)\ttotal: 111ms\tremaining: 37s\n",
      "3:\tlearn: 0.7887668\ttest: 0.8214286\tbest: 0.8214286 (2)\ttotal: 120ms\tremaining: 29.9s\n",
      "4:\tlearn: 0.7899878\ttest: 0.8214286\tbest: 0.8214286 (2)\ttotal: 129ms\tremaining: 25.7s\n",
      "5:\tlearn: 0.7948718\ttest: 0.8223443\tbest: 0.8223443 (5)\ttotal: 138ms\tremaining: 22.8s\n",
      "6:\tlearn: 0.7942613\ttest: 0.8195971\tbest: 0.8223443 (5)\ttotal: 147ms\tremaining: 20.8s\n",
      "7:\tlearn: 0.7948718\ttest: 0.8232601\tbest: 0.8232601 (7)\ttotal: 155ms\tremaining: 19.3s\n",
      "8:\tlearn: 0.7948718\ttest: 0.8232601\tbest: 0.8232601 (7)\ttotal: 164ms\tremaining: 18.1s\n",
      "9:\tlearn: 0.7939560\ttest: 0.8214286\tbest: 0.8232601 (7)\ttotal: 173ms\tremaining: 17.1s\n",
      "10:\tlearn: 0.7939560\ttest: 0.8241758\tbest: 0.8241758 (10)\ttotal: 182ms\tremaining: 16.4s\n",
      "11:\tlearn: 0.7939560\ttest: 0.8241758\tbest: 0.8241758 (10)\ttotal: 190ms\tremaining: 15.7s\n",
      "12:\tlearn: 0.7918193\ttest: 0.8278388\tbest: 0.8278388 (12)\ttotal: 199ms\tremaining: 15.1s\n",
      "13:\tlearn: 0.7924298\ttest: 0.8250916\tbest: 0.8278388 (12)\ttotal: 207ms\tremaining: 14.6s\n",
      "14:\tlearn: 0.7899878\ttest: 0.8241758\tbest: 0.8278388 (12)\ttotal: 217ms\tremaining: 14.2s\n",
      "15:\tlearn: 0.7893773\ttest: 0.8250916\tbest: 0.8278388 (12)\ttotal: 226ms\tremaining: 13.9s\n",
      "16:\tlearn: 0.7893773\ttest: 0.8260073\tbest: 0.8278388 (12)\ttotal: 237ms\tremaining: 13.7s\n",
      "17:\tlearn: 0.7893773\ttest: 0.8260073\tbest: 0.8278388 (12)\ttotal: 247ms\tremaining: 13.5s\n",
      "18:\tlearn: 0.7896825\ttest: 0.8250916\tbest: 0.8278388 (12)\ttotal: 255ms\tremaining: 13.2s\n",
      "19:\tlearn: 0.7893773\ttest: 0.8250916\tbest: 0.8278388 (12)\ttotal: 264ms\tremaining: 12.9s\n",
      "20:\tlearn: 0.7899878\ttest: 0.8260073\tbest: 0.8278388 (12)\ttotal: 274ms\tremaining: 12.8s\n",
      "21:\tlearn: 0.7899878\ttest: 0.8260073\tbest: 0.8278388 (12)\ttotal: 284ms\tremaining: 12.6s\n",
      "22:\tlearn: 0.7902930\ttest: 0.8250916\tbest: 0.8278388 (12)\ttotal: 293ms\tremaining: 12.5s\n",
      "23:\tlearn: 0.7899878\ttest: 0.8250916\tbest: 0.8278388 (12)\ttotal: 302ms\tremaining: 12.3s\n",
      "24:\tlearn: 0.7905983\ttest: 0.8250916\tbest: 0.8278388 (12)\ttotal: 311ms\tremaining: 12.1s\n",
      "25:\tlearn: 0.7905983\ttest: 0.8260073\tbest: 0.8278388 (12)\ttotal: 326ms\tremaining: 12.2s\n",
      "26:\tlearn: 0.7912088\ttest: 0.8250916\tbest: 0.8278388 (12)\ttotal: 337ms\tremaining: 12.1s\n",
      "27:\tlearn: 0.7902930\ttest: 0.8250916\tbest: 0.8278388 (12)\ttotal: 347ms\tremaining: 12s\n",
      "28:\tlearn: 0.7902930\ttest: 0.8250916\tbest: 0.8278388 (12)\ttotal: 355ms\tremaining: 11.9s\n",
      "29:\tlearn: 0.7905983\ttest: 0.8250916\tbest: 0.8278388 (12)\ttotal: 364ms\tremaining: 11.8s\n",
      "30:\tlearn: 0.7902930\ttest: 0.8250916\tbest: 0.8278388 (12)\ttotal: 374ms\tremaining: 11.7s\n",
      "31:\tlearn: 0.7909035\ttest: 0.8250916\tbest: 0.8278388 (12)\ttotal: 383ms\tremaining: 11.6s\n",
      "32:\tlearn: 0.7912088\ttest: 0.8260073\tbest: 0.8278388 (12)\ttotal: 392ms\tremaining: 11.5s\n",
      "33:\tlearn: 0.7902930\ttest: 0.8260073\tbest: 0.8278388 (12)\ttotal: 401ms\tremaining: 11.4s\n",
      "34:\tlearn: 0.7915140\ttest: 0.8260073\tbest: 0.8278388 (12)\ttotal: 410ms\tremaining: 11.3s\n",
      "35:\tlearn: 0.7905983\ttest: 0.8260073\tbest: 0.8278388 (12)\ttotal: 419ms\tremaining: 11.2s\n",
      "36:\tlearn: 0.7912088\ttest: 0.8250916\tbest: 0.8278388 (12)\ttotal: 431ms\tremaining: 11.2s\n",
      "37:\tlearn: 0.7912088\ttest: 0.8250916\tbest: 0.8278388 (12)\ttotal: 442ms\tremaining: 11.2s\n",
      "38:\tlearn: 0.7915140\ttest: 0.8250916\tbest: 0.8278388 (12)\ttotal: 453ms\tremaining: 11.2s\n",
      "39:\tlearn: 0.7918193\ttest: 0.8260073\tbest: 0.8278388 (12)\ttotal: 466ms\tremaining: 11.2s\n",
      "40:\tlearn: 0.7921245\ttest: 0.8269231\tbest: 0.8278388 (12)\ttotal: 475ms\tremaining: 11.1s\n",
      "41:\tlearn: 0.7918193\ttest: 0.8250916\tbest: 0.8278388 (12)\ttotal: 486ms\tremaining: 11.1s\n",
      "42:\tlearn: 0.7918193\ttest: 0.8269231\tbest: 0.8278388 (12)\ttotal: 495ms\tremaining: 11s\n",
      "43:\tlearn: 0.7930403\ttest: 0.8269231\tbest: 0.8278388 (12)\ttotal: 504ms\tremaining: 10.9s\n",
      "44:\tlearn: 0.7927350\ttest: 0.8269231\tbest: 0.8278388 (12)\ttotal: 513ms\tremaining: 10.9s\n",
      "45:\tlearn: 0.7927350\ttest: 0.8260073\tbest: 0.8278388 (12)\ttotal: 521ms\tremaining: 10.8s\n",
      "46:\tlearn: 0.7921245\ttest: 0.8250916\tbest: 0.8278388 (12)\ttotal: 530ms\tremaining: 10.7s\n",
      "47:\tlearn: 0.7927350\ttest: 0.8250916\tbest: 0.8278388 (12)\ttotal: 540ms\tremaining: 10.7s\n",
      "48:\tlearn: 0.7924298\ttest: 0.8250916\tbest: 0.8278388 (12)\ttotal: 548ms\tremaining: 10.6s\n",
      "49:\tlearn: 0.7927350\ttest: 0.8250916\tbest: 0.8278388 (12)\ttotal: 558ms\tremaining: 10.6s\n",
      "50:\tlearn: 0.7927350\ttest: 0.8250916\tbest: 0.8278388 (12)\ttotal: 567ms\tremaining: 10.6s\n",
      "51:\tlearn: 0.7921245\ttest: 0.8269231\tbest: 0.8278388 (12)\ttotal: 576ms\tremaining: 10.5s\n",
      "52:\tlearn: 0.7933455\ttest: 0.8250916\tbest: 0.8278388 (12)\ttotal: 586ms\tremaining: 10.5s\n",
      "53:\tlearn: 0.7933455\ttest: 0.8250916\tbest: 0.8278388 (12)\ttotal: 594ms\tremaining: 10.4s\n",
      "54:\tlearn: 0.7930403\ttest: 0.8250916\tbest: 0.8278388 (12)\ttotal: 606ms\tremaining: 10.4s\n",
      "55:\tlearn: 0.7936508\ttest: 0.8250916\tbest: 0.8278388 (12)\ttotal: 618ms\tremaining: 10.4s\n",
      "56:\tlearn: 0.7933455\ttest: 0.8269231\tbest: 0.8278388 (12)\ttotal: 627ms\tremaining: 10.4s\n",
      "57:\tlearn: 0.7936508\ttest: 0.8250916\tbest: 0.8278388 (12)\ttotal: 635ms\tremaining: 10.3s\n",
      "58:\tlearn: 0.7936508\ttest: 0.8260073\tbest: 0.8278388 (12)\ttotal: 645ms\tremaining: 10.3s\n",
      "59:\tlearn: 0.7936508\ttest: 0.8260073\tbest: 0.8278388 (12)\ttotal: 655ms\tremaining: 10.3s\n",
      "60:\tlearn: 0.7936508\ttest: 0.8260073\tbest: 0.8278388 (12)\ttotal: 664ms\tremaining: 10.2s\n",
      "61:\tlearn: 0.7936508\ttest: 0.8250916\tbest: 0.8278388 (12)\ttotal: 674ms\tremaining: 10.2s\n",
      "62:\tlearn: 0.7939560\ttest: 0.8260073\tbest: 0.8278388 (12)\ttotal: 684ms\tremaining: 10.2s\n",
      "63:\tlearn: 0.7933455\ttest: 0.8250916\tbest: 0.8278388 (12)\ttotal: 693ms\tremaining: 10.1s\n",
      "64:\tlearn: 0.7933455\ttest: 0.8260073\tbest: 0.8278388 (12)\ttotal: 703ms\tremaining: 10.1s\n",
      "65:\tlearn: 0.7942613\ttest: 0.8269231\tbest: 0.8278388 (12)\ttotal: 712ms\tremaining: 10.1s\n",
      "66:\tlearn: 0.7939560\ttest: 0.8269231\tbest: 0.8278388 (12)\ttotal: 722ms\tremaining: 10.1s\n",
      "67:\tlearn: 0.7933455\ttest: 0.8260073\tbest: 0.8278388 (12)\ttotal: 732ms\tremaining: 10s\n",
      "68:\tlearn: 0.7939560\ttest: 0.8260073\tbest: 0.8278388 (12)\ttotal: 740ms\tremaining: 9.99s\n",
      "69:\tlearn: 0.7942613\ttest: 0.8260073\tbest: 0.8278388 (12)\ttotal: 749ms\tremaining: 9.95s\n",
      "70:\tlearn: 0.7942613\ttest: 0.8260073\tbest: 0.8278388 (12)\ttotal: 759ms\tremaining: 9.93s\n",
      "71:\tlearn: 0.7936508\ttest: 0.8250916\tbest: 0.8278388 (12)\ttotal: 768ms\tremaining: 9.9s\n",
      "72:\tlearn: 0.7936508\ttest: 0.8250916\tbest: 0.8278388 (12)\ttotal: 786ms\tremaining: 9.98s\n",
      "73:\tlearn: 0.7939560\ttest: 0.8260073\tbest: 0.8278388 (12)\ttotal: 803ms\tremaining: 10s\n",
      "74:\tlearn: 0.7942613\ttest: 0.8260073\tbest: 0.8278388 (12)\ttotal: 820ms\tremaining: 10.1s\n",
      "75:\tlearn: 0.7936508\ttest: 0.8250916\tbest: 0.8278388 (12)\ttotal: 830ms\tremaining: 10.1s\n",
      "76:\tlearn: 0.7933455\ttest: 0.8260073\tbest: 0.8278388 (12)\ttotal: 841ms\tremaining: 10.1s\n",
      "77:\tlearn: 0.7936508\ttest: 0.8260073\tbest: 0.8278388 (12)\ttotal: 851ms\tremaining: 10.1s\n",
      "78:\tlearn: 0.7942613\ttest: 0.8250916\tbest: 0.8278388 (12)\ttotal: 859ms\tremaining: 10s\n",
      "79:\tlearn: 0.7942613\ttest: 0.8250916\tbest: 0.8278388 (12)\ttotal: 868ms\tremaining: 9.98s\n",
      "80:\tlearn: 0.7939560\ttest: 0.8241758\tbest: 0.8278388 (12)\ttotal: 877ms\tremaining: 9.95s\n",
      "81:\tlearn: 0.7939560\ttest: 0.8241758\tbest: 0.8278388 (12)\ttotal: 888ms\tremaining: 9.94s\n",
      "82:\tlearn: 0.7939560\ttest: 0.8241758\tbest: 0.8278388 (12)\ttotal: 902ms\tremaining: 9.96s\n",
      "83:\tlearn: 0.7942613\ttest: 0.8241758\tbest: 0.8278388 (12)\ttotal: 917ms\tremaining: 10s\n",
      "84:\tlearn: 0.7939560\ttest: 0.8232601\tbest: 0.8278388 (12)\ttotal: 926ms\tremaining: 9.97s\n",
      "85:\tlearn: 0.7936508\ttest: 0.8232601\tbest: 0.8278388 (12)\ttotal: 935ms\tremaining: 9.94s\n",
      "86:\tlearn: 0.7936508\ttest: 0.8241758\tbest: 0.8278388 (12)\ttotal: 945ms\tremaining: 9.92s\n",
      "87:\tlearn: 0.7936508\ttest: 0.8250916\tbest: 0.8278388 (12)\ttotal: 954ms\tremaining: 9.88s\n",
      "88:\tlearn: 0.7936508\ttest: 0.8250916\tbest: 0.8278388 (12)\ttotal: 962ms\tremaining: 9.85s\n",
      "89:\tlearn: 0.7936508\ttest: 0.8250916\tbest: 0.8278388 (12)\ttotal: 971ms\tremaining: 9.82s\n",
      "90:\tlearn: 0.7936508\ttest: 0.8250916\tbest: 0.8278388 (12)\ttotal: 979ms\tremaining: 9.78s\n",
      "91:\tlearn: 0.7936508\ttest: 0.8250916\tbest: 0.8278388 (12)\ttotal: 990ms\tremaining: 9.77s\n",
      "92:\tlearn: 0.7936508\ttest: 0.8250916\tbest: 0.8278388 (12)\ttotal: 1s\tremaining: 9.76s\n",
      "93:\tlearn: 0.7936508\ttest: 0.8250916\tbest: 0.8278388 (12)\ttotal: 1.01s\tremaining: 9.74s\n",
      "94:\tlearn: 0.7942613\ttest: 0.8241758\tbest: 0.8278388 (12)\ttotal: 1.02s\tremaining: 9.72s\n",
      "95:\tlearn: 0.7939560\ttest: 0.8250916\tbest: 0.8278388 (12)\ttotal: 1.03s\tremaining: 9.72s\n",
      "96:\tlearn: 0.7942613\ttest: 0.8250916\tbest: 0.8278388 (12)\ttotal: 1.04s\tremaining: 9.69s\n",
      "97:\tlearn: 0.7939560\ttest: 0.8250916\tbest: 0.8278388 (12)\ttotal: 1.05s\tremaining: 9.66s\n",
      "98:\tlearn: 0.7939560\ttest: 0.8250916\tbest: 0.8278388 (12)\ttotal: 1.06s\tremaining: 9.65s\n",
      "99:\tlearn: 0.7945665\ttest: 0.8241758\tbest: 0.8278388 (12)\ttotal: 1.07s\tremaining: 9.63s\n",
      "100:\tlearn: 0.7945665\ttest: 0.8241758\tbest: 0.8278388 (12)\ttotal: 1.08s\tremaining: 9.59s\n",
      "101:\tlearn: 0.7939560\ttest: 0.8250916\tbest: 0.8278388 (12)\ttotal: 1.09s\tremaining: 9.56s\n",
      "102:\tlearn: 0.7945665\ttest: 0.8241758\tbest: 0.8278388 (12)\ttotal: 1.1s\tremaining: 9.59s\n"
     ]
    },
    {
     "name": "stdout",
     "output_type": "stream",
     "text": [
      "103:\tlearn: 0.7936508\ttest: 0.8232601\tbest: 0.8278388 (12)\ttotal: 1.11s\tremaining: 9.57s\n",
      "104:\tlearn: 0.7933455\ttest: 0.8250916\tbest: 0.8278388 (12)\ttotal: 1.12s\tremaining: 9.55s\n",
      "105:\tlearn: 0.7936508\ttest: 0.8241758\tbest: 0.8278388 (12)\ttotal: 1.13s\tremaining: 9.53s\n",
      "106:\tlearn: 0.7942613\ttest: 0.8241758\tbest: 0.8278388 (12)\ttotal: 1.14s\tremaining: 9.51s\n",
      "107:\tlearn: 0.7939560\ttest: 0.8241758\tbest: 0.8278388 (12)\ttotal: 1.15s\tremaining: 9.49s\n",
      "108:\tlearn: 0.7936508\ttest: 0.8250916\tbest: 0.8278388 (12)\ttotal: 1.16s\tremaining: 9.47s\n",
      "109:\tlearn: 0.7933455\ttest: 0.8241758\tbest: 0.8278388 (12)\ttotal: 1.17s\tremaining: 9.45s\n",
      "110:\tlearn: 0.7933455\ttest: 0.8232601\tbest: 0.8278388 (12)\ttotal: 1.18s\tremaining: 9.44s\n",
      "111:\tlearn: 0.7936508\ttest: 0.8250916\tbest: 0.8278388 (12)\ttotal: 1.19s\tremaining: 9.42s\n",
      "112:\tlearn: 0.7933455\ttest: 0.8250916\tbest: 0.8278388 (12)\ttotal: 1.21s\tremaining: 9.5s\n",
      "Stopped by overfitting detector  (100 iterations wait)\n",
      "\n",
      "bestTest = 0.8278388278\n",
      "bestIteration = 12\n",
      "\n",
      "Shrink model to first 13 iterations.\n"
     ]
    },
    {
     "data": {
      "text/plain": [
       "<__main__.CatBoostClassifierCorrected at 0x27ae5800550>"
      ]
     },
     "execution_count": 44,
     "metadata": {},
     "output_type": "execute_result"
    }
   ],
   "source": [
    "#Instantiating and fitting model with the gotten parameters\n",
    "cb_model = CatBoostClassifierCorrected(**cat_params,**cb_def)\n",
    "# lgb_model = LGBMClassifierCorrected(**lgb_params,**lgb_def)\n",
    "# model = DecisionTreeClassifier(random_state=seed)\n",
    "# logistic_model = LogisticRegression(**logistic_params)\n",
    "# knn_model = KNeighborsClassifier(**knn_params)\n",
    "# model = GaussianNB()\n",
    "# xgb_model = XGBClassifier(**xgb_params,random_state=seed)\n",
    "# forest_model = RandomForestClassifier(**forest_params)\n",
    "cb_model.fit(X_train, y_train, eval_set=(X_test, y_test))\n",
    "# lgb_model.fit(X_train, y_train, eval_set=(X_test, y_test))\n",
    "# model = KNeighborsClassifier(**best_params)\n",
    "# forest_model.fit(X_train, y_train)\n",
    "# model.fit(X_train, y_train)"
   ]
  },
  {
   "cell_type": "code",
   "execution_count": 45,
   "metadata": {},
   "outputs": [],
   "source": [
    "# estimators = [cb_model,lgb_model,xgb_model,forest_model]\n",
    "# estimators_label = [\"cb\", \"lgbm\", \"xgb\", \"rf\"]\n",
    "# estm = list(zip(estimators_label,estimators))"
   ]
  },
  {
   "cell_type": "code",
   "execution_count": 46,
   "metadata": {},
   "outputs": [],
   "source": [
    "# from sklearn.ensemble import VotingClassifier, StackingClassifier"
   ]
  },
  {
   "cell_type": "code",
   "execution_count": 47,
   "metadata": {},
   "outputs": [],
   "source": [
    "# voting = VotingClassifier(estimators=estm, voting='soft')"
   ]
  },
  {
   "cell_type": "code",
   "execution_count": 48,
   "metadata": {},
   "outputs": [],
   "source": [
    "# voting.fit(X_train, y_train)"
   ]
  },
  {
   "cell_type": "code",
   "execution_count": 49,
   "metadata": {},
   "outputs": [],
   "source": [
    "# estm.append(('vclf', voting))\n",
    "# stacking = StackingClassifier(estimators=estm)"
   ]
  },
  {
   "cell_type": "code",
   "execution_count": 50,
   "metadata": {},
   "outputs": [],
   "source": [
    "# stacking.fit(X_train, y_train)"
   ]
  },
  {
   "cell_type": "code",
   "execution_count": 51,
   "metadata": {},
   "outputs": [
    {
     "name": "stdout",
     "output_type": "stream",
     "text": [
      "[[ 43 160]\n",
      " [ 28 861]]\n",
      "              precision    recall  f1-score   support\n",
      "\n",
      "           0       0.61      0.21      0.31       203\n",
      "           1       0.84      0.97      0.90       889\n",
      "\n",
      "    accuracy                           0.83      1092\n",
      "   macro avg       0.72      0.59      0.61      1092\n",
      "weighted avg       0.80      0.83      0.79      1092\n",
      "\n",
      "0.8278388278388278\n"
     ]
    }
   ],
   "source": [
    "predictions = cb_model.predict(X_test)\n",
    "print(confusion_matrix(y_test, predictions))\n",
    "print(classification_report(y_test, predictions))\n",
    "print(accuracy_score(y_test, predictions))"
   ]
  },
  {
   "cell_type": "code",
   "execution_count": 52,
   "metadata": {},
   "outputs": [],
   "source": [
    "test_prob = cb_model.predict(working_test_df)\n",
    "ss = pd.read_csv('SampleSubmission.csv')\n",
    "ss['Good_Bad_flag'] = test_prob\n",
    "ss.to_csv('Submission_1.csv',index=False)"
   ]
  }
 ],
 "metadata": {
  "kernelspec": {
   "display_name": "Python 3",
   "language": "python",
   "name": "python3"
  },
  "language_info": {
   "codemirror_mode": {
    "name": "ipython",
    "version": 3
   },
   "file_extension": ".py",
   "mimetype": "text/x-python",
   "name": "python",
   "nbconvert_exporter": "python",
   "pygments_lexer": "ipython3",
   "version": "3.8.5"
  }
 },
 "nbformat": 4,
 "nbformat_minor": 4
}
